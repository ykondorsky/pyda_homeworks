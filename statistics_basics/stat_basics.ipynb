{
 "cells": [
  {
   "cell_type": "markdown",
   "metadata": {},
   "source": [
    "# Домашнее задание к лекции \"Базовые понятия статистики\""
   ]
  },
  {
   "cell_type": "markdown",
   "metadata": {},
   "source": [
    "## Обязательная часть\n",
    "\n",
    "Будем осуществлять работу с непростым [набором данных](https://raw.githubusercontent.com/obulygin/pyda_homeworks/master/statistics_basics/horse_data.csv) о состоянии здоровья лошадей, испытывающих кишечные колики. \n",
    "\n",
    "### Задание 1. Базовое изучение\n",
    "\n",
    "Изучить представленный набор данных на основе [описания его столбцов](https://raw.githubusercontent.com/obulygin/pyda_homeworks/master/statistics_basics/horse_data.names) и выбрать 8 столбцов для дальнейшего изучения (среди них должны быть как числовые, так и категориальные). Провести расчет базовых метрик для них, кратко описать результаты.\n",
    "\n",
    "### Задание 2. Работа с выбросами\n",
    "\n",
    "В выбранных числовых столбцах найти выбросы, выдвинуть гипотезы об их причинах и проинтерпретировать результаты. Принять и обосновать решение о дальнейшей работе с ними.\n",
    "\n",
    "### Задание 3. Работа с пропусками\n",
    "\n",
    "Рассчитать количество выбросов для всех выбранных столбцов. Принять и обосновать решение о методе работы с пропусками по каждому столбцу, сформировать датафрейм, в котором пропуски будут отсутствовать."
   ]
  },
  {
   "cell_type": "markdown",
   "metadata": {},
   "source": [
    "## Задание 1\n",
    "Изучить представленный набор данных на основе описания его столбцов и выбрать 8 столбцов для дальнейшего изучения (среди них должны быть как числовые, так и категориальные). Провести расчет базовых метрик для них, кратко описать результаты."
   ]
  },
  {
   "cell_type": "code",
   "execution_count": 2,
   "metadata": {},
   "outputs": [],
   "source": [
    "import pandas as pd"
   ]
  },
  {
   "cell_type": "code",
   "execution_count": 66,
   "metadata": {},
   "outputs": [
    {
     "data": {
      "text/html": [
       "<div>\n",
       "<style scoped>\n",
       "    .dataframe tbody tr th:only-of-type {\n",
       "        vertical-align: middle;\n",
       "    }\n",
       "\n",
       "    .dataframe tbody tr th {\n",
       "        vertical-align: top;\n",
       "    }\n",
       "\n",
       "    .dataframe thead th {\n",
       "        text-align: right;\n",
       "    }\n",
       "</style>\n",
       "<table border=\"1\" class=\"dataframe\">\n",
       "  <thead>\n",
       "    <tr style=\"text-align: right;\">\n",
       "      <th></th>\n",
       "      <th>Surgery</th>\n",
       "      <th>Age</th>\n",
       "      <th>Hospital ID</th>\n",
       "      <th>Rectal temp</th>\n",
       "      <th>Pulse</th>\n",
       "      <th>Temp of extremities</th>\n",
       "      <th>Peripheral pulse</th>\n",
       "      <th>Mucous membranes</th>\n",
       "    </tr>\n",
       "  </thead>\n",
       "  <tbody>\n",
       "    <tr>\n",
       "      <th>0</th>\n",
       "      <td>2.0</td>\n",
       "      <td>1</td>\n",
       "      <td>530101</td>\n",
       "      <td>38.5</td>\n",
       "      <td>66.0</td>\n",
       "      <td>3.0</td>\n",
       "      <td>3.0</td>\n",
       "      <td>NaN</td>\n",
       "    </tr>\n",
       "    <tr>\n",
       "      <th>1</th>\n",
       "      <td>1.0</td>\n",
       "      <td>1</td>\n",
       "      <td>534817</td>\n",
       "      <td>39.2</td>\n",
       "      <td>88.0</td>\n",
       "      <td>NaN</td>\n",
       "      <td>NaN</td>\n",
       "      <td>4.0</td>\n",
       "    </tr>\n",
       "    <tr>\n",
       "      <th>2</th>\n",
       "      <td>2.0</td>\n",
       "      <td>1</td>\n",
       "      <td>530334</td>\n",
       "      <td>38.3</td>\n",
       "      <td>40.0</td>\n",
       "      <td>1.0</td>\n",
       "      <td>1.0</td>\n",
       "      <td>3.0</td>\n",
       "    </tr>\n",
       "    <tr>\n",
       "      <th>3</th>\n",
       "      <td>1.0</td>\n",
       "      <td>9</td>\n",
       "      <td>5290409</td>\n",
       "      <td>39.1</td>\n",
       "      <td>164.0</td>\n",
       "      <td>4.0</td>\n",
       "      <td>1.0</td>\n",
       "      <td>6.0</td>\n",
       "    </tr>\n",
       "    <tr>\n",
       "      <th>4</th>\n",
       "      <td>2.0</td>\n",
       "      <td>1</td>\n",
       "      <td>530255</td>\n",
       "      <td>37.3</td>\n",
       "      <td>104.0</td>\n",
       "      <td>NaN</td>\n",
       "      <td>NaN</td>\n",
       "      <td>6.0</td>\n",
       "    </tr>\n",
       "  </tbody>\n",
       "</table>\n",
       "</div>"
      ],
      "text/plain": [
       "   Surgery  Age  Hospital ID  Rectal temp  Pulse  Temp of extremities  \\\n",
       "0      2.0    1       530101         38.5   66.0                  3.0   \n",
       "1      1.0    1       534817         39.2   88.0                  NaN   \n",
       "2      2.0    1       530334         38.3   40.0                  1.0   \n",
       "3      1.0    9      5290409         39.1  164.0                  4.0   \n",
       "4      2.0    1       530255         37.3  104.0                  NaN   \n",
       "\n",
       "   Peripheral pulse  Mucous membranes  \n",
       "0               3.0               NaN  \n",
       "1               NaN               4.0  \n",
       "2               1.0               3.0  \n",
       "3               1.0               6.0  \n",
       "4               NaN               6.0  "
      ]
     },
     "execution_count": 66,
     "metadata": {},
     "output_type": "execute_result"
    }
   ],
   "source": [
    "hd = pd.read_csv('horse_data.csv', \n",
    "                 usecols = [0, 1, 2, 3, 4, 6, 7, 8], \n",
    "                 names = ['Surgery', 'Age', 'Hospital ID', 'Rectal temp', 'Pulse', 'Temp of extremities', 'Peripheral pulse', 'Mucous membranes'],\n",
    "                 na_values = \"?\")\n",
    "hd.head()"
   ]
  },
  {
   "cell_type": "code",
   "execution_count": 78,
   "metadata": {},
   "outputs": [
    {
     "data": {
      "text/html": [
       "<div>\n",
       "<style scoped>\n",
       "    .dataframe tbody tr th:only-of-type {\n",
       "        vertical-align: middle;\n",
       "    }\n",
       "\n",
       "    .dataframe tbody tr th {\n",
       "        vertical-align: top;\n",
       "    }\n",
       "\n",
       "    .dataframe thead th {\n",
       "        text-align: right;\n",
       "    }\n",
       "</style>\n",
       "<table border=\"1\" class=\"dataframe\">\n",
       "  <thead>\n",
       "    <tr style=\"text-align: right;\">\n",
       "      <th></th>\n",
       "      <th>Surgery</th>\n",
       "      <th>Age</th>\n",
       "      <th>Hospital ID</th>\n",
       "      <th>Rectal temp</th>\n",
       "      <th>Pulse</th>\n",
       "      <th>Temp of extremities</th>\n",
       "      <th>Peripheral pulse</th>\n",
       "      <th>Mucous membranes</th>\n",
       "    </tr>\n",
       "  </thead>\n",
       "  <tbody>\n",
       "    <tr>\n",
       "      <th>0</th>\n",
       "      <td>2</td>\n",
       "      <td>1</td>\n",
       "      <td>530101</td>\n",
       "      <td>38.5</td>\n",
       "      <td>66.0</td>\n",
       "      <td>3</td>\n",
       "      <td>3</td>\n",
       "      <td>&lt;NA&gt;</td>\n",
       "    </tr>\n",
       "    <tr>\n",
       "      <th>1</th>\n",
       "      <td>1</td>\n",
       "      <td>1</td>\n",
       "      <td>534817</td>\n",
       "      <td>39.2</td>\n",
       "      <td>88.0</td>\n",
       "      <td>&lt;NA&gt;</td>\n",
       "      <td>&lt;NA&gt;</td>\n",
       "      <td>4</td>\n",
       "    </tr>\n",
       "    <tr>\n",
       "      <th>2</th>\n",
       "      <td>2</td>\n",
       "      <td>1</td>\n",
       "      <td>530334</td>\n",
       "      <td>38.3</td>\n",
       "      <td>40.0</td>\n",
       "      <td>1</td>\n",
       "      <td>1</td>\n",
       "      <td>3</td>\n",
       "    </tr>\n",
       "    <tr>\n",
       "      <th>3</th>\n",
       "      <td>1</td>\n",
       "      <td>9</td>\n",
       "      <td>5290409</td>\n",
       "      <td>39.1</td>\n",
       "      <td>164.0</td>\n",
       "      <td>4</td>\n",
       "      <td>1</td>\n",
       "      <td>6</td>\n",
       "    </tr>\n",
       "    <tr>\n",
       "      <th>4</th>\n",
       "      <td>2</td>\n",
       "      <td>1</td>\n",
       "      <td>530255</td>\n",
       "      <td>37.3</td>\n",
       "      <td>104.0</td>\n",
       "      <td>&lt;NA&gt;</td>\n",
       "      <td>&lt;NA&gt;</td>\n",
       "      <td>6</td>\n",
       "    </tr>\n",
       "  </tbody>\n",
       "</table>\n",
       "</div>"
      ],
      "text/plain": [
       "   Surgery  Age  Hospital ID  Rectal temp  Pulse  Temp of extremities  \\\n",
       "0        2    1       530101         38.5   66.0                    3   \n",
       "1        1    1       534817         39.2   88.0                 <NA>   \n",
       "2        2    1       530334         38.3   40.0                    1   \n",
       "3        1    9      5290409         39.1  164.0                    4   \n",
       "4        2    1       530255         37.3  104.0                 <NA>   \n",
       "\n",
       "   Peripheral pulse  Mucous membranes  \n",
       "0                 3              <NA>  \n",
       "1              <NA>                 4  \n",
       "2                 1                 3  \n",
       "3                 1                 6  \n",
       "4              <NA>                 6  "
      ]
     },
     "execution_count": 78,
     "metadata": {},
     "output_type": "execute_result"
    }
   ],
   "source": [
    "# чтобы можно было работать с NaN-значениями в целочисленных столбцах\n",
    "hd[['Surgery', 'Temp of extremities', 'Peripheral pulse', 'Hospital ID', 'Mucous membranes']] \\\n",
    "= hd[['Surgery', 'Temp of extremities', 'Peripheral pulse', 'Hospital ID', 'Mucous membranes']].astype('Int64')\n",
    "hd.head()"
   ]
  },
  {
   "cell_type": "code",
   "execution_count": 79,
   "metadata": {},
   "outputs": [
    {
     "data": {
      "text/html": [
       "<div>\n",
       "<style scoped>\n",
       "    .dataframe tbody tr th:only-of-type {\n",
       "        vertical-align: middle;\n",
       "    }\n",
       "\n",
       "    .dataframe tbody tr th {\n",
       "        vertical-align: top;\n",
       "    }\n",
       "\n",
       "    .dataframe thead th {\n",
       "        text-align: right;\n",
       "    }\n",
       "</style>\n",
       "<table border=\"1\" class=\"dataframe\">\n",
       "  <thead>\n",
       "    <tr style=\"text-align: right;\">\n",
       "      <th></th>\n",
       "      <th>Surgery</th>\n",
       "      <th>Age</th>\n",
       "      <th>Hospital ID</th>\n",
       "      <th>Rectal temp</th>\n",
       "      <th>Pulse</th>\n",
       "      <th>Temp of extremities</th>\n",
       "      <th>Peripheral pulse</th>\n",
       "      <th>Mucous membranes</th>\n",
       "    </tr>\n",
       "  </thead>\n",
       "  <tbody>\n",
       "    <tr>\n",
       "      <th>0</th>\n",
       "      <td>2</td>\n",
       "      <td>1</td>\n",
       "      <td>530101</td>\n",
       "      <td>38.5</td>\n",
       "      <td>66.0</td>\n",
       "      <td>3</td>\n",
       "      <td>3</td>\n",
       "      <td>&lt;NA&gt;</td>\n",
       "    </tr>\n",
       "    <tr>\n",
       "      <th>1</th>\n",
       "      <td>1</td>\n",
       "      <td>1</td>\n",
       "      <td>534817</td>\n",
       "      <td>39.2</td>\n",
       "      <td>88.0</td>\n",
       "      <td>&lt;NA&gt;</td>\n",
       "      <td>&lt;NA&gt;</td>\n",
       "      <td>4</td>\n",
       "    </tr>\n",
       "    <tr>\n",
       "      <th>2</th>\n",
       "      <td>2</td>\n",
       "      <td>1</td>\n",
       "      <td>530334</td>\n",
       "      <td>38.3</td>\n",
       "      <td>40.0</td>\n",
       "      <td>1</td>\n",
       "      <td>1</td>\n",
       "      <td>3</td>\n",
       "    </tr>\n",
       "    <tr>\n",
       "      <th>3</th>\n",
       "      <td>1</td>\n",
       "      <td>2</td>\n",
       "      <td>5290409</td>\n",
       "      <td>39.1</td>\n",
       "      <td>164.0</td>\n",
       "      <td>4</td>\n",
       "      <td>1</td>\n",
       "      <td>6</td>\n",
       "    </tr>\n",
       "    <tr>\n",
       "      <th>4</th>\n",
       "      <td>2</td>\n",
       "      <td>1</td>\n",
       "      <td>530255</td>\n",
       "      <td>37.3</td>\n",
       "      <td>104.0</td>\n",
       "      <td>&lt;NA&gt;</td>\n",
       "      <td>&lt;NA&gt;</td>\n",
       "      <td>6</td>\n",
       "    </tr>\n",
       "  </tbody>\n",
       "</table>\n",
       "</div>"
      ],
      "text/plain": [
       "   Surgery  Age  Hospital ID  Rectal temp  Pulse  Temp of extremities  \\\n",
       "0        2    1       530101         38.5   66.0                    3   \n",
       "1        1    1       534817         39.2   88.0                 <NA>   \n",
       "2        2    1       530334         38.3   40.0                    1   \n",
       "3        1    2      5290409         39.1  164.0                    4   \n",
       "4        2    1       530255         37.3  104.0                 <NA>   \n",
       "\n",
       "   Peripheral pulse  Mucous membranes  \n",
       "0                 3              <NA>  \n",
       "1              <NA>                 4  \n",
       "2                 1                 3  \n",
       "3                 1                 6  \n",
       "4              <NA>                 6  "
      ]
     },
     "execution_count": 79,
     "metadata": {},
     "output_type": "execute_result"
    }
   ],
   "source": [
    "# в сопроводительном документе указан диапазон значений [1, 2] для столбца 'Age'.\n",
    "# в csv-файле вместо 2 значение 9. Заменим в датафрейме 9 на 2 для удобства восприятия\n",
    "hd['Age'] = hd['Age'].apply(lambda x: 2 if x == 9 else x)\n",
    "hd.head()"
   ]
  },
  {
   "cell_type": "code",
   "execution_count": 26,
   "metadata": {
    "scrolled": true
   },
   "outputs": [
    {
     "data": {
      "text/html": [
       "<div>\n",
       "<style scoped>\n",
       "    .dataframe tbody tr th:only-of-type {\n",
       "        vertical-align: middle;\n",
       "    }\n",
       "\n",
       "    .dataframe tbody tr th {\n",
       "        vertical-align: top;\n",
       "    }\n",
       "\n",
       "    .dataframe thead th {\n",
       "        text-align: right;\n",
       "    }\n",
       "</style>\n",
       "<table border=\"1\" class=\"dataframe\">\n",
       "  <thead>\n",
       "    <tr style=\"text-align: right;\">\n",
       "      <th></th>\n",
       "      <th>Surgery</th>\n",
       "      <th>Age</th>\n",
       "      <th>Hospital ID</th>\n",
       "      <th>Rectal temp</th>\n",
       "      <th>Pulse</th>\n",
       "      <th>Temp of extremities</th>\n",
       "      <th>Peripheral pulse</th>\n",
       "      <th>Mucous membranes</th>\n",
       "    </tr>\n",
       "  </thead>\n",
       "  <tbody>\n",
       "    <tr>\n",
       "      <th>count</th>\n",
       "      <td>299.000000</td>\n",
       "      <td>300.000000</td>\n",
       "      <td>3.000000e+02</td>\n",
       "      <td>240.000000</td>\n",
       "      <td>276.000000</td>\n",
       "      <td>244.000000</td>\n",
       "      <td>231.000000</td>\n",
       "      <td>253.000000</td>\n",
       "    </tr>\n",
       "    <tr>\n",
       "      <th>mean</th>\n",
       "      <td>1.397993</td>\n",
       "      <td>1.080000</td>\n",
       "      <td>1.085889e+06</td>\n",
       "      <td>38.167917</td>\n",
       "      <td>71.913043</td>\n",
       "      <td>2.348361</td>\n",
       "      <td>2.017316</td>\n",
       "      <td>2.853755</td>\n",
       "    </tr>\n",
       "    <tr>\n",
       "      <th>std</th>\n",
       "      <td>0.490305</td>\n",
       "      <td>0.271746</td>\n",
       "      <td>1.529801e+06</td>\n",
       "      <td>0.732289</td>\n",
       "      <td>28.630557</td>\n",
       "      <td>1.045054</td>\n",
       "      <td>1.042428</td>\n",
       "      <td>1.620294</td>\n",
       "    </tr>\n",
       "    <tr>\n",
       "      <th>min</th>\n",
       "      <td>1.000000</td>\n",
       "      <td>1.000000</td>\n",
       "      <td>5.184760e+05</td>\n",
       "      <td>35.400000</td>\n",
       "      <td>30.000000</td>\n",
       "      <td>1.000000</td>\n",
       "      <td>1.000000</td>\n",
       "      <td>1.000000</td>\n",
       "    </tr>\n",
       "    <tr>\n",
       "      <th>25%</th>\n",
       "      <td>1.000000</td>\n",
       "      <td>1.000000</td>\n",
       "      <td>5.289040e+05</td>\n",
       "      <td>37.800000</td>\n",
       "      <td>48.000000</td>\n",
       "      <td>1.000000</td>\n",
       "      <td>1.000000</td>\n",
       "      <td>1.000000</td>\n",
       "    </tr>\n",
       "    <tr>\n",
       "      <th>50%</th>\n",
       "      <td>1.000000</td>\n",
       "      <td>1.000000</td>\n",
       "      <td>5.303055e+05</td>\n",
       "      <td>38.200000</td>\n",
       "      <td>64.000000</td>\n",
       "      <td>3.000000</td>\n",
       "      <td>2.000000</td>\n",
       "      <td>3.000000</td>\n",
       "    </tr>\n",
       "    <tr>\n",
       "      <th>75%</th>\n",
       "      <td>2.000000</td>\n",
       "      <td>1.000000</td>\n",
       "      <td>5.347275e+05</td>\n",
       "      <td>38.500000</td>\n",
       "      <td>88.000000</td>\n",
       "      <td>3.000000</td>\n",
       "      <td>3.000000</td>\n",
       "      <td>4.000000</td>\n",
       "    </tr>\n",
       "    <tr>\n",
       "      <th>max</th>\n",
       "      <td>2.000000</td>\n",
       "      <td>2.000000</td>\n",
       "      <td>5.305629e+06</td>\n",
       "      <td>40.800000</td>\n",
       "      <td>184.000000</td>\n",
       "      <td>4.000000</td>\n",
       "      <td>4.000000</td>\n",
       "      <td>6.000000</td>\n",
       "    </tr>\n",
       "  </tbody>\n",
       "</table>\n",
       "</div>"
      ],
      "text/plain": [
       "          Surgery         Age   Hospital ID  Rectal temp       Pulse  \\\n",
       "count  299.000000  300.000000  3.000000e+02   240.000000  276.000000   \n",
       "mean     1.397993    1.080000  1.085889e+06    38.167917   71.913043   \n",
       "std      0.490305    0.271746  1.529801e+06     0.732289   28.630557   \n",
       "min      1.000000    1.000000  5.184760e+05    35.400000   30.000000   \n",
       "25%      1.000000    1.000000  5.289040e+05    37.800000   48.000000   \n",
       "50%      1.000000    1.000000  5.303055e+05    38.200000   64.000000   \n",
       "75%      2.000000    1.000000  5.347275e+05    38.500000   88.000000   \n",
       "max      2.000000    2.000000  5.305629e+06    40.800000  184.000000   \n",
       "\n",
       "       Temp of extremities  Peripheral pulse  Mucous membranes  \n",
       "count           244.000000        231.000000        253.000000  \n",
       "mean              2.348361          2.017316          2.853755  \n",
       "std               1.045054          1.042428          1.620294  \n",
       "min               1.000000          1.000000          1.000000  \n",
       "25%               1.000000          1.000000          1.000000  \n",
       "50%               3.000000          2.000000          3.000000  \n",
       "75%               3.000000          3.000000          4.000000  \n",
       "max               4.000000          4.000000          6.000000  "
      ]
     },
     "execution_count": 26,
     "metadata": {},
     "output_type": "execute_result"
    }
   ],
   "source": [
    "hd.describe()"
   ]
  },
  {
   "cell_type": "markdown",
   "metadata": {},
   "source": [
    "Первичные выводы:\n",
    "- В то время как данные по хирургическому вмешательству, возрасту и больничному номеру есть для всех пациентов (только для одной лошади отсутствуют данные по факту проведения операции), замеры показателей жизненно важных функций проводились не поголовно;\n",
    "- Из столбца Surgery по среднему значению видим, что операция проводилась около 40% пациентов;\n",
    "- Взрослых лошадей в базе намного больше, чем жеребят (по среднему значению получаем - 92%);\n",
    "- Ректальная температура в среднем выше нормы (38.2 при норме 37.8). СКО составляет 0,73 градуса Цельсия;\n",
    "- Cредний пульс намного выше нормы: 72 уд/мин при норме 30-40. Менее 25% лошадей имеют нормальный или близкий к нормальному пульс;\n",
    "- У около 50% пациентов охлаждённые конечности, что может свидетельствовать о состоянии шока и сниженном кровоснабжении. Указано, что повышенная температура конечностей может свидетельствовать о повышенной ректальной температуре. Проверим это:"
   ]
  },
  {
   "cell_type": "code",
   "execution_count": 33,
   "metadata": {},
   "outputs": [
    {
     "data": {
      "text/plain": [
       "38.20384615384615"
      ]
     },
     "execution_count": 33,
     "metadata": {},
     "output_type": "execute_result"
    }
   ],
   "source": [
    "hd.loc[hd['Temp of extremities'] == 2]['Rectal temp'].mean()"
   ]
  },
  {
   "cell_type": "markdown",
   "metadata": {},
   "source": [
    "Действительно, у лошадей с горячими конечностями наблюдается повышенная ректальная температура."
   ]
  },
  {
   "cell_type": "markdown",
   "metadata": {},
   "source": [
    "## Задание 2\n",
    "В выбранных числовых столбцах найти выбросы, выдвинуть гипотезы об их причинах и проинтерпретировать результаты. Принять и обосновать решение о дальнейшей работе с ними."
   ]
  },
  {
   "cell_type": "code",
   "execution_count": 52,
   "metadata": {},
   "outputs": [
    {
     "data": {
      "text/plain": [
       "20     39.9\n",
       "44     35.4\n",
       "54     40.3\n",
       "75     39.7\n",
       "80     36.4\n",
       "91     40.3\n",
       "99     39.6\n",
       "118    36.5\n",
       "141    36.0\n",
       "238    36.1\n",
       "251    36.6\n",
       "259    40.8\n",
       "281    40.0\n",
       "298    36.5\n",
       "Name: Rectal temp, dtype: float64"
      ]
     },
     "execution_count": 52,
     "metadata": {},
     "output_type": "execute_result"
    }
   ],
   "source": [
    "# начнём проводить расчёт выбросов для каждого числового столбца на основе межквартильного размаха\n",
    "# ректальная температура\n",
    "rt_q1 = hd['Rectal temp'].quantile(0.25)\n",
    "rt_q3 = hd['Rectal temp'].quantile(0.75)\n",
    "rt_iqr = rt_q3 - rt_q1\n",
    "rt_lb = rt_q1 - (1.5 * rt_iqr)\n",
    "rt_ub = rt_q3 + (1.5 * rt_iqr)\n",
    "hd['Rectal temp'][(~hd['Rectal temp'].between(rt_lb, rt_ub, inclusive = True))].dropna()"
   ]
  },
  {
   "cell_type": "markdown",
   "metadata": {},
   "source": [
    "Найденные по формуле значения сложно отнести к выбросам. Скорее всего, это просто индикаторы особо болезненных состояний пациентов. Эти значения следует оставить в выборке."
   ]
  },
  {
   "cell_type": "code",
   "execution_count": 57,
   "metadata": {},
   "outputs": [
    {
     "data": {
      "text/plain": [
       "3      164.0\n",
       "41     150.0\n",
       "55     160.0\n",
       "255    184.0\n",
       "275    150.0\n",
       "Name: Pulse, dtype: float64"
      ]
     },
     "execution_count": 57,
     "metadata": {},
     "output_type": "execute_result"
    }
   ],
   "source": [
    "# пульс\n",
    "p_q1 = hd['Pulse'].quantile(0.25)\n",
    "p_q3 = hd['Pulse'].quantile(0.75)\n",
    "p_iqr = p_q3 - p_q1\n",
    "p_lb = p_q1 - (1.5 * p_iqr)\n",
    "p_ub = p_q3 + (1.5 * p_iqr)\n",
    "hd['Pulse'][(~hd['Pulse'].between(p_lb, p_ub, inclusive = True))].dropna()"
   ]
  },
  {
   "cell_type": "markdown",
   "metadata": {},
   "source": [
    "То же самое, что и в предыдущем случае: полученные по формуле значения не выбиваются из общего ряда наблюдений и могут быть экстремальными состояниями пациентов. Эти значения тоже следует оставить."
   ]
  },
  {
   "cell_type": "markdown",
   "metadata": {},
   "source": [
    "## Задание 3\n",
    "Рассчитать количество пропусков для всех выбранных столбцов. Принять и обосновать решение о методе работы с пропусками по каждому столбцу, сформировать датафрейм, в котором пропуски будут отсутствовать."
   ]
  },
  {
   "cell_type": "code",
   "execution_count": 67,
   "metadata": {},
   "outputs": [
    {
     "data": {
      "text/plain": [
       "Surgery                 1\n",
       "Age                     0\n",
       "Hospital ID             0\n",
       "Rectal temp            60\n",
       "Pulse                  24\n",
       "Temp of extremities    56\n",
       "Peripheral pulse       69\n",
       "Mucous membranes       47\n",
       "dtype: int64"
      ]
     },
     "execution_count": 67,
     "metadata": {},
     "output_type": "execute_result"
    }
   ],
   "source": [
    "hd.isna().sum()"
   ]
  },
  {
   "cell_type": "markdown",
   "metadata": {},
   "source": [
    "- Для столбцов 1-3 пропусков нет, отсутствует лишь одна запись о хирургическом вмешательстве для одной лошади. Поскольку заполнение её любым значением не повлияет на общую картину, можно проигнорировать эту запись или заполнить любым значением на выбор;\n",
    "- В столбце Rectal temp 60 пропусков. Поскольку данные отсутствуют в случайном порядке и процент пропусков невелик, можно исключить строки с пропусками или заполнить их средним. Это не повлияет существенным образом на характеристики, лишь немного изменится СКО и медиана:\n"
   ]
  },
  {
   "cell_type": "code",
   "execution_count": 70,
   "metadata": {},
   "outputs": [
    {
     "data": {
      "text/plain": [
       "count    240.000000\n",
       "mean      38.167917\n",
       "std        0.732289\n",
       "min       35.400000\n",
       "25%       37.800000\n",
       "50%       38.200000\n",
       "75%       38.500000\n",
       "max       40.800000\n",
       "Name: Rectal temp, dtype: float64"
      ]
     },
     "execution_count": 70,
     "metadata": {},
     "output_type": "execute_result"
    }
   ],
   "source": [
    "hd['Rectal temp'].dropna().describe()"
   ]
  },
  {
   "cell_type": "code",
   "execution_count": 71,
   "metadata": {},
   "outputs": [
    {
     "data": {
      "text/plain": [
       "count    300.000000\n",
       "mean      38.167917\n",
       "std        0.654705\n",
       "min       35.400000\n",
       "25%       37.900000\n",
       "50%       38.167917\n",
       "75%       38.500000\n",
       "max       40.800000\n",
       "Name: Rectal temp, dtype: float64"
      ]
     },
     "execution_count": 71,
     "metadata": {},
     "output_type": "execute_result"
    }
   ],
   "source": [
    "hd['Rectal temp'].fillna(hd['Rectal temp'].mean()).describe()"
   ]
  },
  {
   "cell_type": "markdown",
   "metadata": {},
   "source": [
    "- В столбце Pulse 24 пропуска. Поступаем так же, как и с предыдущим столбцом:"
   ]
  },
  {
   "cell_type": "code",
   "execution_count": 72,
   "metadata": {},
   "outputs": [
    {
     "data": {
      "text/plain": [
       "count    276.000000\n",
       "mean      71.913043\n",
       "std       28.630557\n",
       "min       30.000000\n",
       "25%       48.000000\n",
       "50%       64.000000\n",
       "75%       88.000000\n",
       "max      184.000000\n",
       "Name: Pulse, dtype: float64"
      ]
     },
     "execution_count": 72,
     "metadata": {},
     "output_type": "execute_result"
    }
   ],
   "source": [
    "hd['Pulse'].dropna().describe()"
   ]
  },
  {
   "cell_type": "code",
   "execution_count": 73,
   "metadata": {},
   "outputs": [
    {
     "data": {
      "text/plain": [
       "count    300.000000\n",
       "mean      71.913043\n",
       "std       27.457472\n",
       "min       30.000000\n",
       "25%       48.000000\n",
       "50%       68.000000\n",
       "75%       88.000000\n",
       "max      184.000000\n",
       "Name: Pulse, dtype: float64"
      ]
     },
     "execution_count": 73,
     "metadata": {},
     "output_type": "execute_result"
    }
   ],
   "source": [
    "hd['Pulse'].fillna(hd['Pulse'].mean()).describe()"
   ]
  },
  {
   "cell_type": "markdown",
   "metadata": {},
   "source": [
    "- Столбцы Temp of extremities, Peripheral pulse и Mucous membranes содержат категориальные значения. В данном случае заполнять пропуски средним не имеет смысла. Примем, что отсутствие данных о признаке болезни означает его отсутствие. "
   ]
  },
  {
   "cell_type": "code",
   "execution_count": 89,
   "metadata": {},
   "outputs": [
    {
     "data": {
      "text/html": [
       "<div>\n",
       "<style scoped>\n",
       "    .dataframe tbody tr th:only-of-type {\n",
       "        vertical-align: middle;\n",
       "    }\n",
       "\n",
       "    .dataframe tbody tr th {\n",
       "        vertical-align: top;\n",
       "    }\n",
       "\n",
       "    .dataframe thead th {\n",
       "        text-align: right;\n",
       "    }\n",
       "</style>\n",
       "<table border=\"1\" class=\"dataframe\">\n",
       "  <thead>\n",
       "    <tr style=\"text-align: right;\">\n",
       "      <th></th>\n",
       "      <th>Surgery</th>\n",
       "      <th>Age</th>\n",
       "      <th>Hospital ID</th>\n",
       "      <th>Rectal temp</th>\n",
       "      <th>Pulse</th>\n",
       "      <th>Temp of extremities</th>\n",
       "      <th>Peripheral pulse</th>\n",
       "      <th>Mucous membranes</th>\n",
       "    </tr>\n",
       "  </thead>\n",
       "  <tbody>\n",
       "    <tr>\n",
       "      <th>0</th>\n",
       "      <td>2</td>\n",
       "      <td>1</td>\n",
       "      <td>530101</td>\n",
       "      <td>38.500000</td>\n",
       "      <td>66.0</td>\n",
       "      <td>3</td>\n",
       "      <td>3</td>\n",
       "      <td>1</td>\n",
       "    </tr>\n",
       "    <tr>\n",
       "      <th>1</th>\n",
       "      <td>1</td>\n",
       "      <td>1</td>\n",
       "      <td>534817</td>\n",
       "      <td>39.200000</td>\n",
       "      <td>88.0</td>\n",
       "      <td>1</td>\n",
       "      <td>1</td>\n",
       "      <td>4</td>\n",
       "    </tr>\n",
       "    <tr>\n",
       "      <th>2</th>\n",
       "      <td>2</td>\n",
       "      <td>1</td>\n",
       "      <td>530334</td>\n",
       "      <td>38.300000</td>\n",
       "      <td>40.0</td>\n",
       "      <td>1</td>\n",
       "      <td>1</td>\n",
       "      <td>3</td>\n",
       "    </tr>\n",
       "    <tr>\n",
       "      <th>3</th>\n",
       "      <td>1</td>\n",
       "      <td>2</td>\n",
       "      <td>5290409</td>\n",
       "      <td>39.100000</td>\n",
       "      <td>164.0</td>\n",
       "      <td>4</td>\n",
       "      <td>1</td>\n",
       "      <td>6</td>\n",
       "    </tr>\n",
       "    <tr>\n",
       "      <th>4</th>\n",
       "      <td>2</td>\n",
       "      <td>1</td>\n",
       "      <td>530255</td>\n",
       "      <td>37.300000</td>\n",
       "      <td>104.0</td>\n",
       "      <td>1</td>\n",
       "      <td>1</td>\n",
       "      <td>6</td>\n",
       "    </tr>\n",
       "    <tr>\n",
       "      <th>...</th>\n",
       "      <td>...</td>\n",
       "      <td>...</td>\n",
       "      <td>...</td>\n",
       "      <td>...</td>\n",
       "      <td>...</td>\n",
       "      <td>...</td>\n",
       "      <td>...</td>\n",
       "      <td>...</td>\n",
       "    </tr>\n",
       "    <tr>\n",
       "      <th>295</th>\n",
       "      <td>1</td>\n",
       "      <td>1</td>\n",
       "      <td>533886</td>\n",
       "      <td>38.167917</td>\n",
       "      <td>120.0</td>\n",
       "      <td>4</td>\n",
       "      <td>1</td>\n",
       "      <td>4</td>\n",
       "    </tr>\n",
       "    <tr>\n",
       "      <th>296</th>\n",
       "      <td>2</td>\n",
       "      <td>1</td>\n",
       "      <td>527702</td>\n",
       "      <td>37.200000</td>\n",
       "      <td>72.0</td>\n",
       "      <td>3</td>\n",
       "      <td>2</td>\n",
       "      <td>4</td>\n",
       "    </tr>\n",
       "    <tr>\n",
       "      <th>297</th>\n",
       "      <td>1</td>\n",
       "      <td>1</td>\n",
       "      <td>529386</td>\n",
       "      <td>37.500000</td>\n",
       "      <td>72.0</td>\n",
       "      <td>4</td>\n",
       "      <td>3</td>\n",
       "      <td>4</td>\n",
       "    </tr>\n",
       "    <tr>\n",
       "      <th>298</th>\n",
       "      <td>1</td>\n",
       "      <td>1</td>\n",
       "      <td>530612</td>\n",
       "      <td>36.500000</td>\n",
       "      <td>100.0</td>\n",
       "      <td>3</td>\n",
       "      <td>3</td>\n",
       "      <td>3</td>\n",
       "    </tr>\n",
       "    <tr>\n",
       "      <th>299</th>\n",
       "      <td>1</td>\n",
       "      <td>1</td>\n",
       "      <td>534618</td>\n",
       "      <td>37.200000</td>\n",
       "      <td>40.0</td>\n",
       "      <td>1</td>\n",
       "      <td>1</td>\n",
       "      <td>1</td>\n",
       "    </tr>\n",
       "  </tbody>\n",
       "</table>\n",
       "<p>300 rows × 8 columns</p>\n",
       "</div>"
      ],
      "text/plain": [
       "     Surgery  Age  Hospital ID  Rectal temp  Pulse  Temp of extremities  \\\n",
       "0          2    1       530101    38.500000   66.0                    3   \n",
       "1          1    1       534817    39.200000   88.0                    1   \n",
       "2          2    1       530334    38.300000   40.0                    1   \n",
       "3          1    2      5290409    39.100000  164.0                    4   \n",
       "4          2    1       530255    37.300000  104.0                    1   \n",
       "..       ...  ...          ...          ...    ...                  ...   \n",
       "295        1    1       533886    38.167917  120.0                    4   \n",
       "296        2    1       527702    37.200000   72.0                    3   \n",
       "297        1    1       529386    37.500000   72.0                    4   \n",
       "298        1    1       530612    36.500000  100.0                    3   \n",
       "299        1    1       534618    37.200000   40.0                    1   \n",
       "\n",
       "     Peripheral pulse  Mucous membranes  \n",
       "0                   3                 1  \n",
       "1                   1                 4  \n",
       "2                   1                 3  \n",
       "3                   1                 6  \n",
       "4                   1                 6  \n",
       "..                ...               ...  \n",
       "295                 1                 4  \n",
       "296                 2                 4  \n",
       "297                 3                 4  \n",
       "298                 3                 3  \n",
       "299                 1                 1  \n",
       "\n",
       "[300 rows x 8 columns]"
      ]
     },
     "execution_count": 89,
     "metadata": {},
     "output_type": "execute_result"
    }
   ],
   "source": [
    "hd['Surgery'] = hd['Surgery'].fillna(2)\n",
    "hd['Rectal temp'] = hd['Rectal temp'].fillna(hd['Rectal temp'].mean())\n",
    "hd['Pulse'] = hd['Pulse'].fillna(hd['Pulse'].mean())\n",
    "hd['Temp of extremities'] = hd['Temp of extremities'].fillna(1)\n",
    "hd['Peripheral pulse'] = hd['Peripheral pulse'].fillna(1)\n",
    "hd['Mucous membranes'] = hd['Mucous membranes'].fillna(1)\n",
    "hd"
   ]
  },
  {
   "cell_type": "code",
   "execution_count": 90,
   "metadata": {},
   "outputs": [
    {
     "data": {
      "text/plain": [
       "Surgery                0\n",
       "Age                    0\n",
       "Hospital ID            0\n",
       "Rectal temp            0\n",
       "Pulse                  0\n",
       "Temp of extremities    0\n",
       "Peripheral pulse       0\n",
       "Mucous membranes       0\n",
       "dtype: int64"
      ]
     },
     "execution_count": 90,
     "metadata": {},
     "output_type": "execute_result"
    }
   ],
   "source": [
    "hd.isna().sum()"
   ]
  },
  {
   "cell_type": "markdown",
   "metadata": {},
   "source": [
    "## Дополнительная часть (необязательная)\n",
    "\n",
    "Выполнить задания 1-3 для всего набора данных."
   ]
  },
  {
   "cell_type": "markdown",
   "metadata": {},
   "source": [
    "#### ПРИМЕЧАНИЕ\n",
    "Домашнее задание сдается ссылкой на репозиторий [GitHub](https://github.com/).\n",
    "Не сможем проверить или помочь, если вы пришлете:\n",
    "- файлы;\n",
    "- архивы;\n",
    "- скриншоты кода.\n",
    "\n",
    "Все обсуждения и консультации по выполнению домашнего задания ведутся только на соответствующем канале в slack.\n",
    "\n",
    "##### Как правильно задавать вопросы аспирантам, преподавателям и коллегам\n",
    "Прежде чем задать вопрос, попробуйте найти ответ в интернете. Навык самостоятельного поиска информации — один из важнейших. Каждый практикующий специалист любого уровня делает это ежедневно.\n",
    "\n",
    "Сформулируйте вопрос по алгоритму:  \n",
    "1) Что я делаю?  \n",
    "2) Какого результата я ожидаю?  \n",
    "3) Как фактический результат отличается от ожидаемого?  \n",
    "4) Что я уже попробовал сделать, чтобы исправить проблему?  \n",
    "\n",
    "По возможности прикрепите к вопросу скриншоты либо ссылки на код. Не выкладывайте все решение, оставляйте только проблемный и воспроизводимый участок кода."
   ]
  }
 ],
 "metadata": {
  "kernelspec": {
   "display_name": "Python 3",
   "language": "python",
   "name": "python3"
  },
  "language_info": {
   "codemirror_mode": {
    "name": "ipython",
    "version": 3
   },
   "file_extension": ".py",
   "mimetype": "text/x-python",
   "name": "python",
   "nbconvert_exporter": "python",
   "pygments_lexer": "ipython3",
   "version": "3.8.5"
  }
 },
 "nbformat": 4,
 "nbformat_minor": 2
}
