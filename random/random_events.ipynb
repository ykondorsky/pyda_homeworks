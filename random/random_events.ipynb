{
 "cells": [
  {
   "cell_type": "markdown",
   "metadata": {},
   "source": [
    "# Домашнее задание по теме \"Случайные события. Случайные величины\""
   ]
  },
  {
   "cell_type": "markdown",
   "metadata": {},
   "source": [
    "Смоделировать игру против лотерейного автомата типа “777”. Игрок платит 1 руб., после чего выпадает случайное целое число, равномерно распределенное от 0 до 999. При некоторых значениях числа игрок получает выигрыш:\n",
    "\n",
    "- 777: 200 руб.\n",
    "- 999: 100 руб.\n",
    "- 555: 50 руб.\n",
    "- 333: 15 руб.\n",
    "- 111: 10 руб.\n",
    "- *77: 5 руб.\n",
    "- **7: 3 руб.\n",
    "- *00: 2 руб.\n",
    "- **0: 1 руб.\n",
    "\n",
    "\\* - любая цифра\n",
    "\n",
    "Выгодна ли игра игроку?\n",
    "\n",
    "Сколько в среднем приобретает\n",
    "или теряет игрок за одну игру?\n",
    "\n",
    "Дополнительное задание повышенной сложности. Теоретически рассчитать средний выигрыш (проигрыш) и сравнить с результатами моделирования"
   ]
  },
  {
   "cell_type": "markdown",
   "metadata": {},
   "source": [
    "## Практическое моделирование"
   ]
  },
  {
   "cell_type": "code",
   "execution_count": 1,
   "metadata": {},
   "outputs": [],
   "source": [
    "import numpy as np"
   ]
  },
  {
   "cell_type": "code",
   "execution_count": 26,
   "metadata": {},
   "outputs": [
    {
     "name": "stdout",
     "output_type": "stream",
     "text": [
      "Средний выигрыш: -20.2%\n"
     ]
    }
   ],
   "source": [
    "def winning(hit):\n",
    "    if hit % 10 == 7:\n",
    "        if hit == 777:\n",
    "            return 200\n",
    "        elif hit % 100 == 77:\n",
    "            return 5\n",
    "        else:\n",
    "            return 3\n",
    "    elif hit % 10 == 0:\n",
    "        if hit % 100 == 0:\n",
    "            return 2\n",
    "        else:\n",
    "            return 1\n",
    "    elif hit == 999:\n",
    "        return 100\n",
    "    elif hit == 555:\n",
    "        return 50\n",
    "    elif hit == 333:\n",
    "        return 15\n",
    "    elif hit == 111:\n",
    "        return 10\n",
    "    else:\n",
    "        return 0\n",
    "\n",
    "n_experiments = 1000                          # общее количество проведённых экспериментов\n",
    "wins = 0                                      # переменная для накопления выигрышей/проигрышей\n",
    "\n",
    "for j in range (n_experiments): \n",
    "    won_cash = 0                              # выигрыш за одну игру\n",
    "    spent_cash = np.random.randint(0, 100000) # количество денег, потраченных на одну игру\n",
    "    for i in range (spent_cash):  \n",
    "        won_cash += winning(np.random.randint(0, 1000))           \n",
    "    wins += won_cash/spent_cash               # накапливаем процент выигранных (проигранных) денег\n",
    "\n",
    "print(\"Средний {}: {}%\".format('выигрыш', round((wins/n_experiments-1)*100, 2)))\n",
    "            "
   ]
  },
  {
   "cell_type": "markdown",
   "metadata": {},
   "source": [
    "## Теоретический расчёт\n",
    "Нужно рассчитать отношение (возможно) выигранной суммы к потраченной.\n",
    "Потратив 1 рубль, мы можем выиграть следующие суммы со следующими вероятностями:\n",
    "- 200 рублей - 1/1000 (777)\n",
    "- 100 рублей - 1/1000 (999)\n",
    "- 50 рублей - 1/1000  (555)\n",
    "- 15 рублей - 1/1000  (333)\n",
    "- 10 рублей - 1/1000  (111)\n",
    "- 5 рублей - 9/1000   (\\*77 за исключением 777) \n",
    "- 3 рубля - 90/1000   (\\*\\*7 за исключением \\*77)\n",
    "- 2 рубля - 10/1000   (\\*00)\n",
    "- 1 рубль - 90/1000  (\\*\\*0) <br>\n",
    "\n",
    "Во всех остальных случаях - 0 рублей.\n",
    "Среднее значение выигрыша в таком случае будет:"
   ]
  },
  {
   "cell_type": "code",
   "execution_count": 23,
   "metadata": {},
   "outputs": [
    {
     "data": {
      "text/plain": [
       "0.8"
      ]
     },
     "execution_count": 23,
     "metadata": {},
     "output_type": "execute_result"
    }
   ],
   "source": [
    "avg_win = (200*(1/1000) +\n",
    "           100*(1/1000) +\n",
    "           50*(1/1000) +\n",
    "           15*(1/1000) +\n",
    "           10*(1/1000) +\n",
    "           5*(9/1000) +\n",
    "           3*(90/1000) +\n",
    "           2*(10/1000) +\n",
    "           1*(90/1000))\n",
    "avg_win"
   ]
  },
  {
   "cell_type": "markdown",
   "metadata": {},
   "source": [
    "Средний выигрыш при 1 потраченном рубле - **0,8 рубля**. Т. е. это проигрыш **20%** затраченной на игру суммы."
   ]
  }
 ],
 "metadata": {
  "kernelspec": {
   "display_name": "Python 3",
   "language": "python",
   "name": "python3"
  },
  "language_info": {
   "codemirror_mode": {
    "name": "ipython",
    "version": 3
   },
   "file_extension": ".py",
   "mimetype": "text/x-python",
   "name": "python",
   "nbconvert_exporter": "python",
   "pygments_lexer": "ipython3",
   "version": "3.8.5"
  }
 },
 "nbformat": 4,
 "nbformat_minor": 4
}
