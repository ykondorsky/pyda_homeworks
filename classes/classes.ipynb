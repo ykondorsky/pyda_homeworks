{
 "cells": [
  {
   "cell_type": "markdown",
   "metadata": {},
   "source": [
    "# Домашнее задание к лекции «Понятие класса»"
   ]
  },
  {
   "cell_type": "markdown",
   "metadata": {},
   "source": [
    "## Задание 1\n",
    "Напишите функцию, которая возвращает название валюты (поле ‘Name’) с максимальным значением курса с помощью сервиса https://www.cbr-xml-daily.ru/daily_json.js"
   ]
  },
  {
   "cell_type": "code",
   "execution_count": 24,
   "metadata": {},
   "outputs": [],
   "source": [
    "import requests\n",
    "\n",
    "def get_max_valute_value():\n",
    "    r = requests.get('https://www.cbr-xml-daily.ru/daily_json.js').json()\n",
    "    max_val = 0.0\n",
    "    result = ''\n",
    "    for valute in r['Valute']:\n",
    "        if r['Valute'][valute]['Value'] > max_val:\n",
    "            max_val = r['Valute'][valute]['Value']\n",
    "            result = r['Valute'][valute]['Name']\n",
    "    return result"
   ]
  },
  {
   "cell_type": "code",
   "execution_count": 25,
   "metadata": {},
   "outputs": [
    {
     "data": {
      "text/plain": [
       "'СДР (специальные права заимствования)'"
      ]
     },
     "execution_count": 25,
     "metadata": {},
     "output_type": "execute_result"
    }
   ],
   "source": [
    "get_max_valute_value()"
   ]
  },
  {
   "cell_type": "markdown",
   "metadata": {},
   "source": [
    "## Задание 2\n",
    "Добавьте в класс Rate параметр diff (со значениями True или False), который в случае значения True в методах курсов валют (eur, usd итд) будет возвращать не курс валюты, а изменение по сравнению в прошлым значением. Считайте, self.diff будет принимать значение True только при возврате значения курса. При отображении всей информации о валюте он не используется."
   ]
  },
  {
   "cell_type": "code",
   "execution_count": 96,
   "metadata": {},
   "outputs": [],
   "source": [
    "from libs.exchange import Rate\n",
    "\n",
    "class RateChanges(Rate):\n",
    "    def __init__(self):\n",
    "        super().__init__()\n",
    "        # чтобы сравнивать с предыдущими показаниями, нужно получить список значений валют в текущий момент времени\n",
    "        response = self.exchange_rates()\n",
    "        self.xr = {k:v['Value'] for (k, v) in response.items()}\n",
    "    \n",
    "    # переопределяем метод make_format, чтобы учесть условия задания\n",
    "    def make_format(self, currency, diff):\n",
    "        \"\"\"\n",
    "        Возвращает текущее значение валюты при diff=False или \n",
    "        разницу с предыдущим значением при diff=True\n",
    "        \"\"\"\n",
    "        response = self.exchange_rates()\n",
    "        \n",
    "        return_value = 0.0\n",
    "        if currency in response:\n",
    "            if diff:\n",
    "                # считаем разницу между новым и прошлым значением\n",
    "                return_value =  response[currency]['Value'] - self.xr[currency]\n",
    "            else:\n",
    "                # просто возвращаем новое значение\n",
    "                return_value =  response[currency]['Value']\n",
    "            # обновляем словарь значений валют новым значением\n",
    "            self.xr[currency] = response[currency]['Value']\n",
    "            return return_value\n",
    "        else:\n",
    "            return 'Error'\n",
    "    \n",
    "    def eur(self, diff=False):\n",
    "        \"\"\"Возвращает курс евро на сегодня при diff=False либо разницу с предыдущим значением при diff=True\"\"\"\n",
    "        return self.make_format('EUR', diff)\n",
    "    \n",
    "    def usd(self, diff=False):\n",
    "        \"\"\"Возвращает курс доллара на сегодня при diff=False либо разницу с предыдущим значением при diff=True\"\"\"\n",
    "        return self.make_format('USD', diff)\n",
    "    \n",
    "    def brl(self, diff=False):\n",
    "        \"\"\"Возвращает курс бразильского реала на сегодня при diff=False либо разницу с предыдущим значением при diff=True\"\"\"\n",
    "        return self.make_format('BRL', diff)"
   ]
  },
  {
   "cell_type": "code",
   "execution_count": 97,
   "metadata": {},
   "outputs": [
    {
     "data": {
      "text/plain": [
       "0.0"
      ]
     },
     "execution_count": 97,
     "metadata": {},
     "output_type": "execute_result"
    }
   ],
   "source": [
    "rc = RateChanges()\n",
    "rc.eur(True)"
   ]
  },
  {
   "cell_type": "markdown",
   "metadata": {},
   "source": [
    "## Задание 3\n",
    "Напишите класс Designer, который учитывает количество международных премий для дизайнеров (из презентации: “Повышение на 1 грейд за каждые 7 баллов. Получение международной премии – это +2 балла”). Считайте, что при выходе на работу сотрудник уже имеет две премии и их количество не меняется со стажем."
   ]
  },
  {
   "cell_type": "code",
   "execution_count": 104,
   "metadata": {},
   "outputs": [],
   "source": [
    "class Employee:\n",
    "    def __init__(self, name, seniority):\n",
    "        self.name = name\n",
    "        self.seniority = seniority\n",
    "        \n",
    "        self.grade = 1\n",
    "    \n",
    "    def grade_up(self):\n",
    "        \"\"\"Повышает уровень сотрудника\"\"\"\n",
    "        self.grade += 1\n",
    "    \n",
    "    def publish_grade(self):\n",
    "        \"\"\"Публикация результатов аккредитации сотрудников\"\"\"\n",
    "        print(self.name, self.seniority, self.grade)\n",
    "    \n",
    "    def should_upgrade(self):\n",
    "        pass\n",
    "    \n",
    "class Designer(Employee):\n",
    "    def __init__(self, name):\n",
    "        super().__init__(name, seniority=2)\n",
    "    \n",
    "    def should_upgrade(self):\n",
    "        # для дизайнеров количество премий не меняется со стажем\n",
    "        # поэтому изменение грейда может произойти только при получении премии\n",
    "        # self.seniority += 1\n",
    "        \n",
    "        # условие повышения сотрудника \n",
    "        if self.seniority % 7 == 0:\n",
    "            self.grade_up()\n",
    "    \n",
    "    def add_award(self, international=False):\n",
    "        self.seniority += 1\n",
    "        self.should_upgrade()\n",
    "        if international:\n",
    "            self.seniority += 1\n",
    "            self.should_upgrade()\n",
    "            \n",
    "        # публикация результатов\n",
    "        return self.publish_grade()"
   ]
  },
  {
   "cell_type": "code",
   "execution_count": 112,
   "metadata": {},
   "outputs": [],
   "source": [
    "oleg = Designer('Олег')"
   ]
  },
  {
   "cell_type": "code",
   "execution_count": 113,
   "metadata": {},
   "outputs": [
    {
     "name": "stdout",
     "output_type": "stream",
     "text": [
      "Олег 4 1\n",
      "Олег 5 1\n",
      "Олег 7 2\n",
      "Олег 9 2\n",
      "Олег 11 2\n",
      "Олег 12 2\n",
      "Олег 13 2\n",
      "Олег 15 3\n",
      "Олег 17 3\n",
      "Олег 19 3\n",
      "Олег 21 4\n",
      "Олег 23 4\n",
      "Олег 25 4\n",
      "Олег 26 4\n",
      "Олег 27 4\n",
      "Олег 28 5\n",
      "Олег 30 5\n",
      "Олег 31 5\n",
      "Олег 32 5\n",
      "Олег 34 5\n"
     ]
    }
   ],
   "source": [
    "import random\n",
    "for i in range(20):\n",
    "    # назначем Олегу премию случайным образом (обычную или международную)\n",
    "    oleg.add_award(bool(random.getrandbits(1)))"
   ]
  }
 ],
 "metadata": {
  "kernelspec": {
   "display_name": "Python 3",
   "language": "python",
   "name": "python3"
  },
  "language_info": {
   "codemirror_mode": {
    "name": "ipython",
    "version": 3
   },
   "file_extension": ".py",
   "mimetype": "text/x-python",
   "name": "python",
   "nbconvert_exporter": "python",
   "pygments_lexer": "ipython3",
   "version": "3.8.5"
  }
 },
 "nbformat": 4,
 "nbformat_minor": 4
}
